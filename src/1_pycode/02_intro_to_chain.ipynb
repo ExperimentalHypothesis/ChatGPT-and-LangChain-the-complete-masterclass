{
 "cells": [
  {
   "metadata": {},
   "cell_type": "markdown",
   "source": [
    "# This is how a chain and chain flow looks like. \n",
    "### Chain is a wrapper around prompt and LLM. It takes input as dict and generated output as dict  \n",
    "![title](pics/Screenshot_20240518_131454.png)\n",
    "\n",
    "### Chains can be combined together so that the output from first is the input for second\n",
    "### ![title](pics/Screenshot_20240518_131838.png)\n",
    "\n",
    "### In order to make it work the names for OUTPUT/INPUT need to match. That is the most critical part\n",
    "### ![title](pics/Screenshot_20240518_132152.png)"
   ],
   "id": "6a1a65f2adbc1785"
  },
  {
   "metadata": {},
   "cell_type": "markdown",
   "source": "\n",
   "id": "dbf1d29dd62dc77e"
  },
  {
   "metadata": {},
   "cell_type": "code",
   "outputs": [],
   "execution_count": null,
   "source": "#",
   "id": "e5674abb73dfaf01"
  }
 ],
 "metadata": {
  "kernelspec": {
   "display_name": "Python 3",
   "language": "python",
   "name": "python3"
  },
  "language_info": {
   "codemirror_mode": {
    "name": "ipython",
    "version": 2
   },
   "file_extension": ".py",
   "mimetype": "text/x-python",
   "name": "python",
   "nbconvert_exporter": "python",
   "pygments_lexer": "ipython2",
   "version": "2.7.6"
  }
 },
 "nbformat": 4,
 "nbformat_minor": 5
}
