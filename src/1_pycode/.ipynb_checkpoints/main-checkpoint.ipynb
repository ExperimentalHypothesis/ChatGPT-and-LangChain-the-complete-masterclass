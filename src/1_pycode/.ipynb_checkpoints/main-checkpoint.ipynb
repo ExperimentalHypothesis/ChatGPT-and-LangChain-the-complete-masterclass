{
 "cells": [
  {
   "cell_type": "code",
   "metadata": {
    "ExecuteTime": {
     "end_time": "2024-05-18T10:02:26.234560Z",
     "start_time": "2024-05-18T10:02:25.875592Z"
    }
   },
   "source": [
    "\n",
    "from langchain.chains.llm import LLMChain\n",
    "from langchain.chains.sequential import SequentialChain\n",
    "from langchain_openai import OpenAI\n",
    "from langchain_core.prompts import PromptTemplate\n",
    "from dotenv import load_dotenv\n",
    "\n",
    "import argparse\n",
    "\n",
    "load_dotenv()\n",
    "\n",
    "parser = argparse.ArgumentParser()\n",
    "parser.add_argument(\"--task\", default=\"return a list of numbers\")\n",
    "parser.add_argument(\"--language\", default=\"python\")\n",
    "args = parser.parse_args()\n",
    "\n",
    "\n",
    "llm = OpenAI()\n",
    "\n",
    "code_prompt = PromptTemplate(\n",
    "    input_variables=[\"task\", \"language\"],\n",
    "    template=\"Write a very short {language} function that will {task}\",\n",
    ")\n",
    "\n",
    "test_prompt = PromptTemplate(\n",
    "    input_variables=[\"language\", \"code\"],\n",
    "    template=\"Write a test for he following {language} code:<n{code}\"\n",
    ")\n",
    "\n",
    "code_chain = LLMChain(\n",
    "    llm=llm,\n",
    "    prompt=code_prompt,\n",
    "    output_key=\"code\"\n",
    ")\n",
    "\n",
    "test_chain = LLMChain(\n",
    "    llm=llm,\n",
    "    prompt=test_prompt,\n",
    "    output_key=\"test\",\n",
    ")\n",
    "\n",
    "# main chain to bind the output of 1. as input to 2., generating answer\n",
    "chain = SequentialChain(\n",
    "    chains=[code_chain, test_chain],\n",
    "    input_variables=[\"task\", \"language\"],\n",
    "    output_variables=[\"test\", \"code\"]\n",
    ")\n",
    "\n",
    "result = chain.invoke({\n",
    "    \"language\": args.language,\n",
    "    \"task\": args.task\n",
    "})\n",
    "\n",
    "\n",
    "print(\">>>>>>>>> CODE: \")\n",
    "print(result[\"code\"])\n",
    "\n",
    "print(\">>>>>>>>> TEST: \")\n",
    "print(result[\"test\"])\n",
    "\n"
   ],
   "outputs": [
    {
     "name": "stderr",
     "output_type": "stream",
     "text": [
      "usage: ipykernel_launcher.py [-h] [--task TASK] [--language LANGUAGE]\n",
      "ipykernel_launcher.py: error: unrecognized arguments: -f /home/nirvikalpa/.local/share/jupyter/runtime/kernel-8c71c2d5-0304-4a2c-b6be-d7cda493403e.json\n"
     ]
    },
    {
     "ename": "SystemExit",
     "evalue": "2",
     "output_type": "error",
     "traceback": [
      "An exception has occurred, use %tb to see the full traceback.\n",
      "\u001B[0;31mSystemExit\u001B[0m\u001B[0;31m:\u001B[0m 2\n"
     ]
    },
    {
     "name": "stderr",
     "output_type": "stream",
     "text": [
      "/home/nirvikalpa/.cache/pypoetry/virtualenvs/chatgptreporeader-BYS5M-4o-py3.12/lib/python3.12/site-packages/IPython/core/interactiveshell.py:3585: UserWarning: To exit: use 'exit', 'quit', or Ctrl-D.\n",
      "  warn(\"To exit: use 'exit', 'quit', or Ctrl-D.\", stacklevel=1)\n"
     ]
    }
   ],
   "execution_count": 1
  },
  {
   "cell_type": "code",
   "execution_count": null,
   "metadata": {},
   "outputs": [],
   "source": []
  }
 ],
 "metadata": {
  "language_info": {
   "name": "python"
  },
  "kernelspec": {
   "name": "python3",
   "language": "python",
   "display_name": "Python 3 (ipykernel)"
  }
 },
 "nbformat": 4,
 "nbformat_minor": 2
}
