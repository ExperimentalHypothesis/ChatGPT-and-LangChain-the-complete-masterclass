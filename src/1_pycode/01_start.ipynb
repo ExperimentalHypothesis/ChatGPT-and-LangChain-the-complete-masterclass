{
 "cells": [
  {
   "metadata": {
    "ExecuteTime": {
     "end_time": "2024-05-18T10:08:33.059057Z",
     "start_time": "2024-05-18T10:08:33.056393Z"
    }
   },
   "cell_type": "code",
   "source": [
    "from langchain_openai import OpenAI\n",
    "from dotenv import load_dotenv"
   ],
   "outputs": [],
   "execution_count": 7
  },
  {
   "metadata": {
    "ExecuteTime": {
     "end_time": "2024-05-18T10:14:19.926696Z",
     "start_time": "2024-05-18T10:14:19.922207Z"
    }
   },
   "cell_type": "code",
   "source": "load_dotenv()",
   "outputs": [
    {
     "data": {
      "text/plain": [
       "True"
      ]
     },
     "execution_count": 11,
     "metadata": {},
     "output_type": "execute_result"
    }
   ],
   "execution_count": 11
  },
  {
   "metadata": {
    "ExecuteTime": {
     "end_time": "2024-05-18T10:14:26.426713Z",
     "start_time": "2024-05-18T10:14:26.413043Z"
    }
   },
   "cell_type": "code",
   "source": "llm = OpenAI()",
   "outputs": [],
   "execution_count": 12
  },
  {
   "metadata": {
    "ExecuteTime": {
     "end_time": "2024-05-18T10:15:16.767590Z",
     "start_time": "2024-05-18T10:15:15.486736Z"
    }
   },
   "cell_type": "code",
   "source": [
    "# start\n",
    "res = llm.invoke(\"write a short poem\")\n",
    "print(res)"
   ],
   "outputs": [
    {
     "name": "stdout",
     "output_type": "stream",
     "text": [
      "\n",
      "\n",
      "Roses are red,\n",
      "Violets are blue,\n",
      "Life is a journey,\n",
      "And I'm glad to share it with you.\n",
      "\n",
      "Together we'll laugh,\n",
      "Together we'll cry,\n",
      "Through all of life's ups and downs,\n",
      "Our love will never die.\n",
      "\n",
      "So here's a little poem,\n",
      "Just to say,\n",
      "I'm grateful for you,\n",
      "Each and every day.\n"
     ]
    }
   ],
   "execution_count": 15
  },
  {
   "metadata": {},
   "cell_type": "markdown",
   "source": [
    "### here is how it flows\n",
    "![title](pics/Screenshot_20240518_122539.png)"
   ]
  },
  {
   "metadata": {},
   "cell_type": "code",
   "outputs": [],
   "execution_count": null,
   "source": ""
  }
 ],
 "metadata": {
  "language_info": {
   "name": "python"
  },
  "kernelspec": {
   "name": "python3",
   "language": "python",
   "display_name": "Python 3 (ipykernel)"
  }
 },
 "nbformat": 4,
 "nbformat_minor": 2
}
